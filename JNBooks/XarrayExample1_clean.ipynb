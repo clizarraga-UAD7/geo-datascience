{
 "cells": [
  {
   "cell_type": "markdown",
   "id": "ca57bfa8-586b-4e10-9260-f872d414f56d",
   "metadata": {},
   "source": [
    "## Xarray example Jupyter Notebook\n",
    "\n",
    "Runs in _jupyter lab_ notebook.\n"
   ]
  },
  {
   "cell_type": "markdown",
   "id": "45fd00d3-bee0-40b6-8a3a-dbbd6252fc06",
   "metadata": {},
   "source": [
    "## Xarray instalation\n",
    "Install Xarray and some of its dependencies if not already installed.\n",
    "\n",
    "``` conda install -c conda-forge xarray==0.20.2 dask netCDF4 bottleneck pooch```\n",
    "\n",
    "It may take a while resolving installation environments.\n",
    "If it is successful, will install other package dependecies.\n",
    "\n",
    "Xarray comes with a collection of datasets to explore: [xarray.tutorial.open_dataset](https://docs.xarray.dev/en/stable/generated/xarray.tutorial.open_dataset.html)\n",
    "\n",
    "Available datasets:\n",
    "\n",
    "`\"air_temperature\"`: NCEP reanalysis subset\n",
    "\n",
    "`\"air_temperature_gradient\"`: NCEP reanalysis subset with approximate x,y gradients\n",
    "\n",
    "`\"basin_mask\"`: Dataset with ocean basins marked using integers\n",
    "\n",
    "`\"ASE_ice_velocity\"`: MEaSUREs InSAR-Based Ice Velocity of the Amundsen Sea Embayment, Antarctica, Version 1\n",
    "\n",
    "`\"rasm\"`: Output of the Regional Arctic System Model (RASM)\n",
    "\n",
    "`\"ROMS_example\"`: Regional Ocean Model System (ROMS) output\n",
    "\n",
    "`\"tiny\"`: small synthetic dataset with a 1D data variable\n",
    "\n",
    "`\"era5-2mt-2019-03-uk.grib\"`: ERA5 temperature data over the UK\n",
    "\n",
    "`\"eraint_uvz\"`: data from ERA-Interim reanalysis, monthly averages of upper level data\n",
    "\n",
    "`\"ersstv5\"`: NOAA’s Extended Reconstructed Sea Surface Temperature monthly averages\n"
   ]
  },
  {
   "cell_type": "code",
   "execution_count": null,
   "id": "dd41fd10-1a13-4c6f-83e2-87d10597abba",
   "metadata": {},
   "outputs": [],
   "source": [
    "# Load required libraries\n",
    "\n",
    "%matplotlib inline\n",
    "\n",
    "import numpy as np\n",
    "import pandas as pd\n",
    "import dask.array as da\n",
    "import dask.dataframe as dd\n",
    "import pooch\n",
    "import xarray as xr\n",
    "\n",
    "import matplotlib.pyplot as plt\n",
    "import seaborn as sns\n",
    "\n",
    "plt.rcParams['figure.figsize'] = (8,5)\n"
   ]
  },
  {
   "cell_type": "code",
   "execution_count": null,
   "id": "97b19748-031b-481f-997f-6433d2470320",
   "metadata": {},
   "outputs": [],
   "source": [
    "# Load the air_temperature dataset and define a xarray datastructure\n",
    "# 4 x Daily Air temperature in degrees K at sigma level 995 \n",
    "# (2013-01-01 to 2014-12-31)\n",
    "# Spatial Coverage\n",
    "# 2.5 degree x 2.5 degree global grids (144x73) [2.5 degree = 172.5 miles]\n",
    "# 0.0E to 357.5E, 90.0N to 90.0S\n",
    "\n",
    "ds = xr.tutorial.open_dataset('air_temperature')\n",
    "#ds.info()\n"
   ]
  },
  {
   "cell_type": "code",
   "execution_count": null,
   "id": "ff9dd0d7-be7c-4e1d-9d14-2a32bc07b435",
   "metadata": {},
   "outputs": [],
   "source": [
    "# Show the components of the xarray.Dataset\n",
    "ds"
   ]
  },
  {
   "cell_type": "code",
   "execution_count": null,
   "id": "51983ed7-8ec6-4a1f-992a-071bacb691d5",
   "metadata": {},
   "outputs": [],
   "source": [
    "# Show the values of  data variable: air\n",
    "ds.air"
   ]
  },
  {
   "cell_type": "code",
   "execution_count": null,
   "id": "051ccc81-5da5-4115-8c4a-be3e99b8c3fb",
   "metadata": {},
   "outputs": [],
   "source": [
    "# Direct access to values\n",
    "#ds.air.values"
   ]
  },
  {
   "cell_type": "code",
   "execution_count": null,
   "id": "3f829ba6-7e3b-49ff-8271-d49c6b4844aa",
   "metadata": {},
   "outputs": [],
   "source": [
    "# Underneath is a Numpy N dimensional Array\n",
    "type(ds.air.values)"
   ]
  },
  {
   "cell_type": "markdown",
   "id": "25cdccc8-df39-40fb-a5f8-cb4d0997d09d",
   "metadata": {},
   "source": [
    "### DataArray Properties"
   ]
  },
  {
   "cell_type": "code",
   "execution_count": null,
   "id": "69c3d1ef-adf2-4483-a043-376e0e1a2f34",
   "metadata": {},
   "outputs": [],
   "source": [
    "# Show dimensions\n",
    "ds.dims"
   ]
  },
  {
   "cell_type": "code",
   "execution_count": null,
   "id": "848b7572-984a-4006-becc-63c8420e2a48",
   "metadata": {},
   "outputs": [],
   "source": [
    "# Show coordinates\n",
    "ds.coords"
   ]
  },
  {
   "cell_type": "code",
   "execution_count": null,
   "id": "f8f9387f-dbdb-4137-99c1-c350f77b36d2",
   "metadata": {},
   "outputs": [],
   "source": [
    "# Show attributes\n",
    "ds.attrs"
   ]
  },
  {
   "cell_type": "markdown",
   "id": "8d4306bd-2a59-4139-aa90-602d02ab051c",
   "metadata": {},
   "source": [
    "We can use [xarray.DataArray.groupby](https://docs.xarray.dev/en/stable/generated/xarray.DataArray.groupby.html) to caculate average monthly temperatures and anomalies."
   ]
  },
  {
   "cell_type": "code",
   "execution_count": null,
   "id": "a98cc71a-cf1e-4a72-a54f-abb09a5df027",
   "metadata": {},
   "outputs": [],
   "source": [
    "\n",
    "# calculate monthly climatology\n",
    "climatology = ds.groupby('time.month').mean('time')\n",
    "\n",
    "# calculate anomalies \n",
    "anomalies = ds.groupby('time.month') - climatology\n"
   ]
  },
  {
   "cell_type": "code",
   "execution_count": null,
   "id": "45fbbd46-68d5-4384-be21-4eb94b0ec331",
   "metadata": {},
   "outputs": [],
   "source": [
    "# Show the resulting Dataset\n",
    "climatology"
   ]
  },
  {
   "cell_type": "code",
   "execution_count": null,
   "id": "f26404d1-e7bd-4a6a-ae3a-943231a7196c",
   "metadata": {},
   "outputs": [],
   "source": [
    "# Show the sesulting Dataset\n",
    "anomalies"
   ]
  },
  {
   "cell_type": "markdown",
   "id": "271e3360-2990-484f-880d-263304f44754",
   "metadata": {},
   "source": [
    "\n",
    "Much like in Pandas, Xarray includes an interface to Matplotlib that we can access through the `.plot()` method of every DataArray.\n",
    "\n",
    "Plotting the air temperature for the first time value, using longitude as the x variable."
   ]
  },
  {
   "cell_type": "code",
   "execution_count": null,
   "id": "27cd7421-1273-4139-9b28-1f37dee207a6",
   "metadata": {},
   "outputs": [],
   "source": [
    "ds.air.isel(time=1).plot(x=\"lon\");"
   ]
  },
  {
   "cell_type": "code",
   "execution_count": null,
   "id": "3b5519a5-2348-40bf-9507-8cd51afc52e0",
   "metadata": {},
   "outputs": [],
   "source": [
    "# We can take time average of air temperature over all coordinates \n",
    "ds.air.mean(\"time\").plot(x=\"lon\");"
   ]
  },
  {
   "cell_type": "markdown",
   "id": "c74251a1-b100-47f2-85d2-8c506dac5ca4",
   "metadata": {},
   "source": [
    "## Indexing and selecting data"
   ]
  },
  {
   "cell_type": "markdown",
   "id": "cf430efe-8e78-4300-b82d-ffdbbe4f6778",
   "metadata": {},
   "source": [
    "### Positional indexing\n"
   ]
  },
  {
   "cell_type": "code",
   "execution_count": null,
   "id": "654aeff1-2d82-47c8-af1f-e740b8323934",
   "metadata": {},
   "outputs": [],
   "source": [
    "# Create the following Dataset \n",
    "\n",
    "da = xr.DataArray(\n",
    "     np.random.rand(4, 3),\n",
    "     [\n",
    "         (\"time\", pd.date_range(\"2000-01-01\", periods=4)),\n",
    "         (\"space\", [\"IA\", \"IL\", \"IN\"]),\n",
    "     ],\n",
    "   )\n",
    "# Show the Dataset\n",
    "da"
   ]
  },
  {
   "cell_type": "code",
   "execution_count": null,
   "id": "6b874b9f-012e-46b3-b2e3-aa23a66b7e1d",
   "metadata": {},
   "outputs": [],
   "source": [
    "# Show Dataset dimensions\n",
    "da.dims"
   ]
  },
  {
   "cell_type": "code",
   "execution_count": null,
   "id": "df93a219-4091-4265-a672-b1ab7853d4fb",
   "metadata": {},
   "outputs": [],
   "source": [
    "# Select the first 2 values of first variable (time)\n",
    "da[:2]"
   ]
  },
  {
   "cell_type": "code",
   "execution_count": null,
   "id": "d357d8a2-7074-4f28-ace9-399b0e01a00d",
   "metadata": {},
   "outputs": [],
   "source": [
    "# Select the first values of (time, space)\n",
    "da[0,0]"
   ]
  },
  {
   "cell_type": "code",
   "execution_count": null,
   "id": "b7ba1db8-29c7-430b-9988-2b9a02a7c62c",
   "metadata": {},
   "outputs": [],
   "source": [
    "# get all the values of the `time` variable and \n",
    "# select the third and second values of the `space` variable in that order.\n",
    "da[:, [2, 1]]"
   ]
  },
  {
   "cell_type": "markdown",
   "id": "dd41d31e-f807-4894-8c30-639314350281",
   "metadata": {},
   "source": [
    "### Indexing with dimension names"
   ]
  },
  {
   "cell_type": "code",
   "execution_count": null,
   "id": "deb536a1-f0a6-4a60-ae85-9a23204d0d8d",
   "metadata": {},
   "outputs": [],
   "source": [
    "# index by integer array indices\n",
    "# Select by index the first space variable and first 2 values of time\n",
    "da.isel(space=0, time=slice(None, 2))"
   ]
  },
  {
   "cell_type": "code",
   "execution_count": null,
   "id": "114eb9f5-6e73-4416-8fdc-bcdea563cd35",
   "metadata": {},
   "outputs": [],
   "source": [
    "# index by dimension coordinate labels\n",
    "da.sel(time=slice(\"2000-01-01\", \"2000-01-02\"))\n"
   ]
  },
  {
   "cell_type": "code",
   "execution_count": null,
   "id": "87271427-9847-4130-ab27-ec880c261e50",
   "metadata": {},
   "outputs": [],
   "source": [
    "# Same as: da[0,0], but using indexes\n",
    "da.isel(space=[0], time=[0])"
   ]
  },
  {
   "cell_type": "code",
   "execution_count": null,
   "id": "6f15406c-9e89-4181-8224-8f86c0349972",
   "metadata": {},
   "outputs": [],
   "source": [
    "# Select a specific time slice\n",
    "da.sel(time=\"2000-01-01\")"
   ]
  },
  {
   "cell_type": "markdown",
   "id": "f158e267-ecaf-4607-8fa4-51ac1b42228e",
   "metadata": {},
   "source": [
    "### Droping labels and dimensions\n",
    "The `drop_sel()` method returns a new object with the listed index labels along a dimension dropped:"
   ]
  },
  {
   "cell_type": "code",
   "execution_count": null,
   "id": "8bdb13a2-9308-4392-8abd-c1ab84263312",
   "metadata": {},
   "outputs": [],
   "source": [
    "da"
   ]
  },
  {
   "cell_type": "code",
   "execution_count": null,
   "id": "6e9f8f3c-5a36-4ea2-8125-ada1db1ec72c",
   "metadata": {},
   "outputs": [],
   "source": [
    "# Drop 2 space coordinates using labels\n",
    "da.drop_sel(space=[\"IN\", \"IL\"])"
   ]
  },
  {
   "cell_type": "code",
   "execution_count": null,
   "id": "fcd313fe-f3f2-4b34-84fc-4d6ee028ea4f",
   "metadata": {},
   "outputs": [],
   "source": [
    "# Drop by index the first values of space and time variables\n",
    "da.drop_isel(space=[0], time=[0])"
   ]
  },
  {
   "cell_type": "markdown",
   "id": "486b713e-c224-4d3a-9b2a-603765633522",
   "metadata": {},
   "source": [
    "Use drop_vars() to drop a full variable from a Dataset. Any variables depending on it are also dropped:"
   ]
  },
  {
   "cell_type": "code",
   "execution_count": null,
   "id": "ffb4aff6-13e0-46ba-a1b6-98b1c7584226",
   "metadata": {},
   "outputs": [],
   "source": [
    "# Drop the time coordinate variable reference\n",
    "da.drop_vars(\"time\")"
   ]
  },
  {
   "cell_type": "markdown",
   "id": "67550f61-aafc-41b3-836c-1fda69823a2e",
   "metadata": {},
   "source": [
    "## Example of reading a netCDF file using Xarray\n",
    "\n",
    "We will read an [Argo](https://argo.ucsd.edu/about/) data file that describes the temperature and salinity of the water and some of the floats measure other properties that describe the biology/chemistry of the ocean. \n",
    "\n",
    "The Argo robot instruments drift along the ocean and collect data which are stored in netCDF format and can be [acccessed via HTTP and FTP](https://argo.ucsd.edu/data/data-from-gdacs/).\n"
   ]
  },
  {
   "cell_type": "code",
   "execution_count": null,
   "id": "ad9eaa52-444f-43cf-87ba-5db911226344",
   "metadata": {},
   "outputs": [],
   "source": [
    "import numpy as np\n",
    "import xarray as xr\n",
    "\n",
    "from matplotlib import pyplot as plt\n",
    "\n",
    "%matplotlib inline\n",
    "plt.rcParams['figure.figsize'] = (8,5)\n"
   ]
  },
  {
   "cell_type": "code",
   "execution_count": null,
   "id": "5f6fcb72-ff99-4f56-baad-78397f69e417",
   "metadata": {},
   "outputs": [],
   "source": [
    "# Reading an Argo dataset using Xarray\n",
    "argo_data = xr.open_dataset('data/nodc_4901112_prof.nc')\n",
    "\n",
    "# Show file keys\n",
    "argo_data.keys()\n"
   ]
  },
  {
   "cell_type": "code",
   "execution_count": null,
   "id": "1a7fc629-d08b-4fe7-9ef8-43f3929b0cc1",
   "metadata": {},
   "outputs": [],
   "source": [
    "# Show dataset structure\n",
    "argo_data"
   ]
  },
  {
   "cell_type": "code",
   "execution_count": null,
   "id": "f4b08dc9-5b57-4b16-82b3-e37d42a59e4e",
   "metadata": {},
   "outputs": [],
   "source": [
    "# Show dataset variables\n",
    "argo_data.dims"
   ]
  },
  {
   "cell_type": "code",
   "execution_count": null,
   "id": "f7ddbcd1-2fdf-4057-a4d3-eb844c131647",
   "metadata": {},
   "outputs": [],
   "source": [
    "# Disctionary of attributes\n",
    "argo_data.attrs"
   ]
  },
  {
   "cell_type": "code",
   "execution_count": null,
   "id": "0cc780b2-b8dc-4768-a026-4c3bdbe66742",
   "metadata": {},
   "outputs": [],
   "source": [
    "# Show first n=5 rows of temperature values\n",
    "argo_data.temp_adjusted.head()"
   ]
  },
  {
   "cell_type": "code",
   "execution_count": null,
   "id": "48bbd427-d352-41f7-9c38-0fa1b0be95c4",
   "metadata": {},
   "outputs": [],
   "source": [
    "# Quick Timeseries Profile plot of Temperature\n",
    "argo_data.temp_adjusted.T.plot()\n",
    "plt.gca().invert_yaxis()\n"
   ]
  },
  {
   "cell_type": "code",
   "execution_count": null,
   "id": "8784497c-6180-4e7a-b346-6e9d42b39efe",
   "metadata": {},
   "outputs": [],
   "source": [
    "# Quick Timeseries Profile plot of Salinity\n",
    "argo_data.psal_adjusted.T.plot()\n",
    "plt.gca().invert_yaxis()\n"
   ]
  },
  {
   "cell_type": "code",
   "execution_count": null,
   "id": "9f3f0756-9c6a-4606-90c0-8d84e45aa6df",
   "metadata": {},
   "outputs": [],
   "source": [
    "# Profile Plot\n",
    "nprof = 25 #Specify a profile to plot\n",
    "plt.plot(argo_data.temp_adjusted[nprof], argo_data.pres_adjusted[nprof])\n",
    "\n",
    "plt.xlabel('Temperature (C)')\n",
    "plt.ylabel('Pressure (dbar)')\n",
    "plt.title('Argo Profile from %s' % argo_data.juld[nprof].dt.strftime('%a, %b %d %H:%M').values)\n",
    "plt.grid()\n",
    "\n",
    "plt.gca().invert_yaxis() #Flip the y-axis\n"
   ]
  },
  {
   "cell_type": "code",
   "execution_count": null,
   "id": "4b1a74b2-1838-40bc-9eb2-eda307ca15d7",
   "metadata": {},
   "outputs": [],
   "source": [
    "# Profile Plot\n",
    "\n",
    "data = argo_data.copy()\n",
    "\n",
    "# Subplot example\n",
    "fig, (ax1,ax2) = plt.subplots(1,2, sharey=True, figsize=(10,6))\n",
    "\n",
    "nprof = 0 # Fist profile\n",
    "ax1.plot(data.temp_adjusted[nprof], data.pres_adjusted[nprof], label=data.juld[nprof].dt.strftime('%Y-%m-%d').values)\n",
    "ax2.plot(data.psal_adjusted[nprof], data.pres_adjusted[nprof])\n",
    "\n",
    "nprof = 25 # Middle-ish profile\n",
    "ax1.plot(data.temp_adjusted[nprof], data.pres_adjusted[nprof], label=data.juld[nprof].dt.strftime('%Y-%m-%d').values)\n",
    "ax2.plot(data.psal_adjusted[nprof], data.pres_adjusted[nprof])\n",
    "\n",
    "nprof = -1 # Last profile\n",
    "ax1.plot(data.temp_adjusted[nprof], data.pres_adjusted[nprof], label=data.juld[nprof].dt.strftime('%Y-%m-%d').values)\n",
    "ax2.plot(data.psal_adjusted[nprof], data.pres_adjusted[nprof])\n",
    "\n",
    "ax1.set_ylabel('Pressure (dbar)')\n",
    "ax1.set_xlabel('Temperature (C)')\n",
    "ax2.set_xlabel('Salinity')\n",
    "ax1.invert_yaxis()\n",
    "ax1.legend()\n",
    "\n",
    "# Add some gridlines\n",
    "ax1.grid()\n",
    "ax2.grid()\n",
    "\n",
    "# Add a super title\n",
    "fig.suptitle('Argo Float #%d' % data.platform_number[nprof].values, fontweight='bold', fontsize=16);\n"
   ]
  },
  {
   "cell_type": "markdown",
   "id": "31537b43-e58c-41f1-b1aa-83adb4c3e5af",
   "metadata": {},
   "source": [
    "## Temperature Salinity Diagram"
   ]
  },
  {
   "cell_type": "code",
   "execution_count": null,
   "id": "f726f01e-fbe9-427a-997c-8a213e06f2ca",
   "metadata": {},
   "outputs": [],
   "source": [
    "# TS Diagram\n",
    "nprof = 25 #Selected profile\n",
    "plt.scatter(data.psal_adjusted[nprof], data.temp_adjusted[nprof])\n",
    "plt.xlabel('Salinity')\n",
    "plt.ylabel('Temperature (°C)')\n",
    "plt.grid()\n",
    "\n",
    "plt.title('Argo Float #%d' % data.platform_number[nprof].values, fontweight='bold');\n"
   ]
  },
  {
   "cell_type": "code",
   "execution_count": null,
   "id": "43d0b2fb-b026-4a55-8a26-4adbd8848097",
   "metadata": {},
   "outputs": [],
   "source": [
    "# We can also use a colored scatterplot to show the depth dimension.\n",
    "# T-S Diagram with depth\n",
    "plt.figure(figsize=(8,6))\n",
    "\n",
    "nprof = 25 #Selected profile\n",
    "plt.scatter(data.psal_adjusted[nprof], data.temp_adjusted[nprof], c=data.pres_adjusted[nprof], cmap='viridis_r')\n",
    "plt.xlabel('Salinity');\n",
    "plt.ylabel('Temperature (°C)')\n",
    "plt.grid()\n",
    "\n",
    "cbh = plt.colorbar();\n",
    "cbh.set_label('Pressure (dbar)')\n"
   ]
  },
  {
   "cell_type": "markdown",
   "id": "74bfddae-e0e5-4bb3-b300-45578905f985",
   "metadata": {},
   "source": [
    "To calculate density, we will need the wonderful `seawater` library.\n",
    "\n",
    "To install it:\n",
    "\n",
    "Use: `!pip install seawater`\n",
    "\n",
    "Or in Anaconda use: `conda install -c conda-forge seawater`"
   ]
  },
  {
   "cell_type": "code",
   "execution_count": null,
   "id": "dd23020d-ea87-4bab-bc3d-713e0a501bc3",
   "metadata": {},
   "outputs": [],
   "source": [
    "import seawater\n"
   ]
  },
  {
   "cell_type": "code",
   "execution_count": null,
   "id": "4cbf63e6-31ab-4360-9597-224b65c18427",
   "metadata": {},
   "outputs": [],
   "source": [
    "# TS Diagram with density contours\n",
    "plt.figure(figsize=(8,6))\n",
    "\n",
    "# Calculate the density lines\n",
    "x = np.arange(33, 35, .1)\n",
    "y = np.arange(2, 23, .5)\n",
    "X, Y = np.meshgrid(x, y)\n",
    "Z = seawater.eos80.dens0(X,Y) - 1000 # Substract 1000 to convert to sigma-t\n",
    "\n",
    "# Plot the contour lines\n",
    "CS = plt.contour(X, Y, Z, colors='grey', linestyles='dashed', levels=np.arange(22,30,.5))\n",
    "plt.clabel(CS, inline=1, fontsize=10, fmt='%0.1f')\n",
    "\n",
    "# Plot the data\n",
    "nprof = 25 #Selected profile\n",
    "plt.scatter(data.psal_adjusted[nprof], data.temp_adjusted[nprof], c=data.pres_adjusted[nprof], cmap='viridis_r')\n",
    "plt.xlabel('Salinity');\n",
    "plt.ylabel('Temperature (°C)')\n",
    "plt.title('Argo Float #%d on %s' % (data.platform_number[nprof].values, data.juld[nprof].dt.strftime('%Y-%m-%d').values), fontweight='bold');\n",
    "\n",
    "# Add a colorbar\n",
    "cbh = plt.colorbar(label='Pressure (dbar)');\n"
   ]
  },
  {
   "cell_type": "markdown",
   "id": "1fc87d39-ea36-4069-afe2-7cd3582fc28a",
   "metadata": {},
   "source": [
    "## Float Track Map"
   ]
  },
  {
   "cell_type": "code",
   "execution_count": null,
   "id": "ba008ab1-7ee2-4f67-adb7-93efdb7d0d0b",
   "metadata": {},
   "outputs": [],
   "source": [
    "# Simple map of a float track\n",
    "plt.figure(figsize=(8,8))\n",
    "plt.plot(data.longitude, data.latitude, c='lightgrey')\n",
    "plt.scatter(data.longitude, data.latitude, c=data.juld, cmap='RdYlBu')\n",
    "plt.grid()\n",
    "plt.xlabel('Longitude')\n",
    "plt.ylabel('Latitude')\n",
    "plt.title('ARGO Robot drift map')\n",
    "\n",
    "# Crude profile labels\n",
    "for jj in [1,25,-1]:\n",
    "  plt.text(data.longitude[jj]+.02, data.latitude[jj]+.02, data.n_prof[jj].values);\n",
    "\n",
    "# Add a colorbar\n",
    "cbar = plt.colorbar();\n",
    "\n",
    "# Fix the colorbar ticks\n",
    "import pandas as pd # We need pandas for this\n",
    "cbar.ax.set_yticklabels(pd.to_datetime(cbar.get_ticks()).strftime(date_format='%Y-%m-%d'));\n",
    "\n",
    "# Set the aspect ratio to pseudo-Mercator\n",
    "#plt.gca().set_aspect(1 / np.cos(np.deg2rad( np.mean(plt.ylim()) )))\n"
   ]
  },
  {
   "cell_type": "code",
   "execution_count": null,
   "id": "52b50709-3a12-4bb3-a00a-7a5c48629040",
   "metadata": {},
   "outputs": [],
   "source": []
  }
 ],
 "metadata": {
  "kernelspec": {
   "display_name": "Python 3",
   "language": "python",
   "name": "python3"
  },
  "language_info": {
   "codemirror_mode": {
    "name": "ipython",
    "version": 3
   },
   "file_extension": ".py",
   "mimetype": "text/x-python",
   "name": "python",
   "nbconvert_exporter": "python",
   "pygments_lexer": "ipython3"
  }
 },
 "nbformat": 4,
 "nbformat_minor": 5
}
